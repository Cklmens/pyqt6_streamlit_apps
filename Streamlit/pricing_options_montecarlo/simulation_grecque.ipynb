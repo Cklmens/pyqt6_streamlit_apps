{
 "cells": [
  {
   "cell_type": "code",
   "execution_count": 1,
   "metadata": {},
   "outputs": [],
   "source": [
    "import matplotlib.pyplot as plt\n",
    "import pandas as pd\n",
    "import numpy as np\n",
    "import statsmodels.api as smf\n",
    "import scipy.stats as stat\n",
    "from scipy.stats import norm\n",
    "import math as ma"
   ]
  },
  {
   "cell_type": "code",
   "execution_count": 2,
   "metadata": {},
   "outputs": [],
   "source": [
    "def prix_St_norm1(So,K,T,sigma,r,style):\n",
    "  const=100000\n",
    "  #browm1=  np.random.normal(0,1,const)\n",
    "  St1=np.zeros((const))\n",
    "  St2=np.zeros((const))\n",
    "  for j in range(const):\n",
    "    browm1=  np.random.normal(0,1)\n",
    "    St1[j] = So*ma.exp((r-(sigma**2)/2)*T + sigma*ma.sqrt(T)*browm1)\n",
    "    St2[j]= So*ma.exp((r-(sigma**2)/2)*T - sigma*ma.sqrt(T)*browm1)   \n",
    "       \n",
    "  payoff=np.ones(const)\n",
    "  if (style==\"call\"):\n",
    "    for i in range(const):\n",
    "      payoff[i]=((max((St1[i]-K),0)+ (max((St2[i]-K),0)))*ma.exp(-r*T))/2\n",
    "        \n",
    "    return np.mean(payoff)\n",
    "         \n",
    "  if(style=='put'):\n",
    "      for i in range(const):       \n",
    "         payoff[i]=((max((K-St1[i]),0)+ (max((K-St2[i]),0)))*ma.exp(-r*T))/2\n",
    "       \n",
    "      return np.mean(payoff)\n",
    "         "
   ]
  },
  {
   "cell_type": "code",
   "execution_count": 3,
   "metadata": {},
   "outputs": [],
   "source": [
    "def prix_St_norm2(So,K,T,sigma,r,style):\n",
    "  const=100000\n",
    "  browm1=  np.random.normal(0,1,const)\n",
    "  St1=np.zeros((const))\n",
    "  St2=np.zeros((const))\n",
    "  St1 = So*np.exp((r-(sigma**2)/2)*T + sigma*ma.sqrt(T)*browm1)\n",
    "  St2 = So*np.exp((r-(sigma**2)/2)*T - sigma*ma.sqrt(T)*browm1)   \n",
    "       \n",
    "  payoff=np.ones(const)\n",
    "  #Variable de controle\n",
    "  Z=0.5*np.exp(-r*T)*(St1+St2)\n",
    "  if (style==\"call\"):\n",
    "    for i in range(const):\n",
    "      payoff[i]=((max((St1[i]-K),0)+ (max((St2[i]-K),0)))*ma.exp(-r*T))/2  \n",
    "    \n",
    "         \n",
    "  if(style=='put'):\n",
    "      for i in range(const):       \n",
    "         payoff[i]=((max((K-St1[i]),0)+ (max((K-St2[i]),0)))*ma.exp(-r*T))/2\n",
    "      \n",
    "  k=-np.cov(Z,payoff)/np.var(Z)\n",
    "\n",
    "  variable_de_controle= payoff +k[0][1]*(Z-np.mean(Z))\n",
    "  return np.mean(variable_de_controle)#, 1.96*np.std(variable_de_controle)/const"
   ]
  },
  {
   "cell_type": "code",
   "execution_count": 4,
   "metadata": {},
   "outputs": [],
   "source": [
    "\n",
    "def qmc_simulation(M,d=1):\n",
    "    qmc_= stat.qmc.Sobol(d, scramble=True) \n",
    "    x_sobol= qmc_.random_base2(M)\n",
    "    return stat.norm.ppf(x_sobol)\n",
    "\n",
    "\n",
    "def prix_St_norm(So,K,T,sigma,r,style):\n",
    "  const=len(qmc_simulation(12))\n",
    "  browm1=  qmc_simulation(12)\n",
    "  St1=np.zeros((const))\n",
    "  St2=np.zeros((const))\n",
    "  St1 = So*np.exp((r-(sigma**2)/2)*T + sigma*ma.sqrt(T)*browm1)\n",
    "  St2 = So*np.exp((r-(sigma**2)/2)*T - sigma*ma.sqrt(T)*browm1)       \n",
    "  payoff=np.ones(const)\n",
    "  #Variable de controle\n",
    "  Z=0.5*np.exp(-r*T)*(St1+St2)\n",
    "  if (style==\"call\"):\n",
    "    for i in range(const):\n",
    "      payoff[i]=((max((St1[i]-K),0)+ (max((St2[i]-K),0)))*ma.exp(-r*T))/2       \n",
    "  if(style=='put'):\n",
    "      for i in range(const):       \n",
    "         payoff[i]=((max((K-St1[i]),0)+ (max((K-St2[i]),0)))*ma.exp(-r*T))/2    \n",
    "  k=-np.cov(Z.T,payoff)/np.var(Z)\n",
    "  variable_de_controle= payoff +k[0][1]*(Z-np.mean(Z))\n",
    "  return np.mean(variable_de_controle)#, 1.96*np.std(variable_de_controle)/const, const"
   ]
  },
  {
   "cell_type": "code",
   "execution_count": 5,
   "metadata": {},
   "outputs": [
    {
     "data": {
      "text/plain": [
       "'l=(prix_St_norm(100,110,1,0.25,0.05,\\'call\\'))\\nprint(\" prix de l\\'option :\"+str(l[0])+\" un interval de confince de \"+str(l[1])+\" pour \"+str(l[2])+\" Simulations\")'"
      ]
     },
     "execution_count": 5,
     "metadata": {},
     "output_type": "execute_result"
    }
   ],
   "source": [
    "\"\"\"l=(prix_St_norm(100,110,1,0.25,0.05,'call'))\n",
    "print(\" prix de l'option :\"+str(l[0])+\" un interval de confince de \"+str(l[1])+\" pour \"+str(l[2])+\" Simulations\")\"\"\""
   ]
  },
  {
   "cell_type": "code",
   "execution_count": 6,
   "metadata": {},
   "outputs": [],
   "source": [
    "def delta(So,K,T,sigma,r,style):\n",
    "  h=1\n",
    "  return (prix_St_norm(So-2*h,K,T,sigma,r,style)- 8*(prix_St_norm(So-h,K,T,sigma,r,style)) +8*prix_St_norm(So+h,K,T,sigma,r,style)-prix_St_norm(So+2*h,K,T,sigma,r,style))/(12*h)\n",
    "#  (u(x-2h)-8*u(x-h)+8*u(x+h)+u(x+2h))/12h\n",
    "\n",
    "def gamma(So,K,T,sigma,r,style):\n",
    "  h=1\n",
    "  return (delta(So-2*h,K,T,sigma,r,style)- 8*(delta(So-h,K,T,sigma,r,style)) +8*delta(So+h,K,T,sigma,r,style)-delta(So+h,K,T,sigma,r,style))/(12*h)\n",
    "\n",
    "def theta(So,K,T,sigma,r,style):\n",
    "  t=T/100\n",
    "  return (prix_St_norm(So,K,T-2*t,sigma,r,style)- 8*(prix_St_norm(So,K,T-t,sigma,r,style)) +8*prix_St_norm(So,K,T+t,sigma,r,style)-prix_St_norm(So,K,T+2*t,sigma,r,style))/(12*t)\n",
    "def rho(So,K,T,sigma,r,style):\n",
    "  \n",
    "  h=0.001\n",
    "  return (prix_St_norm(So,K,T,sigma,r-2*h,style) - 8*(prix_St_norm(So,K,T,sigma,r-h,style)) + 8*prix_St_norm(So,K,T,sigma,r+h,style) - prix_St_norm(So,K,T,sigma,r+2*h,style))/(12*h)\n",
    "\n",
    "def vega(So,K,T,sigma,r,style):\n",
    "  h=sigma/100\n",
    "  return (prix_St_norm(So,K,T,sigma-2*h,r,style)- 8*(prix_St_norm(So,K,T,sigma-h,r,style)) +8*prix_St_norm(So,K,T,sigma+h,r,style)-prix_St_norm(So,K,T,sigma+2*h,r,style))/(12*h)\n"
   ]
  },
  {
   "cell_type": "code",
   "execution_count": 7,
   "metadata": {},
   "outputs": [],
   "source": [
    "def delta_barrier(So,K,T,sigma,r,style):\n",
    "  h=1\n",
    "  return (prix_St_norm(So-2*h,K,T,sigma,r,style)- 8*(prix_St_norm(So-h,K,T,sigma,r,style)) +8*prix_St_norm(So+h,K,T,sigma,r,style)-prix_St_norm(So+2*h,K,T,sigma,r,style))/(12*h)\n",
    "#  (u(x-2h)-8*u(x-h)+8*u(x+h)+u(x+2h))/12h\n",
    "\n",
    "def gamma_barrier(So,K,T,sigma,r,style):\n",
    "  h=1\n",
    "  return (delta(So-2*h,K,T,sigma,r,style)- 8*(delta(So-h,K,T,sigma,r,style)) +8*delta(So+h,K,T,sigma,r,style)-delta(So+h,K,T,sigma,r,style))/(12*h)\n",
    "\n",
    "def theta_barrier(So,K,T,sigma,r,style):\n",
    "  t=T/100\n",
    "  return (prix_St_norm(So,K,T-2*t,sigma,r,style)- 8*(prix_St_norm(So,K,T-t,sigma,r,style)) +8*prix_St_norm(So,K,T+t,sigma,r,style)-prix_St_norm(So,K,T+2*t,sigma,r,style))/(12*t)\n",
    "def rho_barrier(So,K,T,sigma,r,style):\n",
    "  \n",
    "  h=0.001\n",
    "  return (prix_St_norm(So,K,T,sigma,r-2*h,style) - 8*(prix_St_norm(So,K,T,sigma,r-h,style)) + 8*prix_St_norm(So,K,T,sigma,r+h,style) - prix_St_norm(So,K,T,sigma,r+2*h,style))/(12*h)\n",
    "\n",
    "def vega_barrier(So,K,T,sigma,r,style):\n",
    "  h=sigma/100\n",
    "  return (prix_St_norm(So,K,T,sigma-2*h,r,style)- 8*(prix_St_norm(So,K,T,sigma-h,r,style)) +8*prix_St_norm(So,K,T,sigma+h,r,style)-prix_St_norm(So,K,T,sigma+2*h,r,style))/(12*h)\n"
   ]
  },
  {
   "cell_type": "code",
   "execution_count": null,
   "metadata": {},
   "outputs": [],
   "source": []
  },
  {
   "cell_type": "code",
   "execution_count": 8,
   "metadata": {},
   "outputs": [
    {
     "name": "stdout",
     "output_type": "stream",
     "text": [
      "0.4776880794167087\n",
      "0.013689808633150058\n",
      "39.59416490047699\n",
      "42.65563356730399\n",
      "6.541715797926159\n"
     ]
    }
   ],
   "source": [
    "print(delta(100,110,1,0.25,0.05,'call'))\n",
    "print(gamma(100,110,1,0.25,0.05,'call'))\n",
    "print(vega(100,110,1,0.25,0.05,'call'))\n",
    "print(rho(100,110,1,0.25,0.05,'call'))\n",
    "print(theta(100,110,1,0.25,0.05,'call'))"
   ]
  },
  {
   "cell_type": "code",
   "execution_count": 9,
   "metadata": {},
   "outputs": [
    {
     "data": {
      "text/plain": [
       "(1024, 1)"
      ]
     },
     "execution_count": 9,
     "metadata": {},
     "output_type": "execute_result"
    }
   ],
   "source": [
    "\n",
    "def qmc_simulation(M,d=1):\n",
    "    qmc_= stat.qmc.Sobol(d, scramble=True) \n",
    "    x_sobol= qmc_.random_base2(M)\n",
    "    return stat.norm.ppf(x_sobol)\n",
    "\n",
    "qmc_simulation(10).shape"
   ]
  },
  {
   "cell_type": "code",
   "execution_count": 10,
   "metadata": {},
   "outputs": [],
   "source": [
    "def qmc_plot(M):\n",
    "    qmc_= stat.qmc.Sobol(d=2, scramble=True) \n",
    "    return qmc_.random_base2(M)\n",
    "\n",
    "X=qmc_plot(10).T\n",
    "\n",
    "#plt.scatter(X[1],X[0])\n"
   ]
  },
  {
   "cell_type": "code",
   "execution_count": 11,
   "metadata": {},
   "outputs": [],
   "source": [
    "Y=np.random.random(size=(2**10,2)).T\n",
    "#plt.scatter(Y[0],Y[1])"
   ]
  },
  {
   "cell_type": "code",
   "execution_count": 12,
   "metadata": {},
   "outputs": [],
   "source": [
    "def var_montecarlo_europene(So,K,To,sigma,r,style,level=0.05):\n",
    "  const=100000\n",
    "  browm1=  np.random.normal(0,1,const)\n",
    "  St1=np.zeros((const))\n",
    "  St2=np.zeros((const))\n",
    "  T= 14/365 \n",
    "  St1 = So*np.exp((r-(sigma**2)/2)*T + sigma*ma.sqrt(T)*browm1)\n",
    "  St2 = So*np.exp((r-(sigma**2)/2)*T - sigma*ma.sqrt(T)*browm1)   \n",
    "  T= T/365    \n",
    "  payoff=np.ones(const)\n",
    "  Z=0.5*np.exp(-r*T)*(St1+St2)\n",
    "  if (style==\"call\"):\n",
    "    for i in range(const):\n",
    "      payoff[i]=((max((St1[i]-K*ma.exp(-r*(To-T))),0)+ (max((St2[i]-K*ma.exp(-r*(To-T))),0)))*ma.exp(-r*T))/2  \n",
    "  if(style=='put'):\n",
    "      for i in range(const):       \n",
    "         payoff[i]=((max((K*ma.exp(-r*(To-T))-St1[i]),0)+ (max((K*ma.exp(-r*(To-T))-St2[i]),0)))*ma.exp(-r*T))/2\n",
    "  k=-np.cov(Z.T,payoff)/np.var(Z)\n",
    "\n",
    "  vc= payoff +k[0][1]*(Z-np.mean(Z))   \n",
    "  var=np.percentile(vc, level)\n",
    "  cvar=pd.DataFrame(vc)[pd.DataFrame(vc)<= var].mean() \n",
    "  return var,cvar"
   ]
  },
  {
   "cell_type": "code",
   "execution_count": 13,
   "metadata": {},
   "outputs": [
    {
     "data": {
      "text/plain": [
       "(-0.6360688287507431,\n",
       " 0   -1.269841\n",
       " dtype: float64)"
      ]
     },
     "execution_count": 13,
     "metadata": {},
     "output_type": "execute_result"
    }
   ],
   "source": [
    "d=var_montecarlo_europene(100,110,1,0.25,0.05,'call')\n",
    "var_montecarlo_europene(917.8,925,57/365,0.015,0.0045205,'call')\n",
    "d"
   ]
  },
  {
   "cell_type": "code",
   "execution_count": 14,
   "metadata": {},
   "outputs": [
    {
     "data": {
      "text/plain": [
       "-21.401709882546307"
      ]
     },
     "execution_count": 14,
     "metadata": {},
     "output_type": "execute_result"
    }
   ],
   "source": [
    "def delta_BS(S,K,T,r,sigma, style):\n",
    "    d1=(ma.log(S/K)+(r+(sigma**2)/2)*T)/(sigma*ma.sqrt(T))\n",
    "    if(style=='call'):\n",
    "       return norm.cdf(d1)\n",
    "    if(style=='put'):\n",
    "       return norm.cdf(d1)-1\n",
    "\n",
    "def gamma_BS(S,K,T,r,sigma,style):\n",
    "    d1=(ma.log(S/K)+(r+(sigma**2)/2)*T)/(sigma*ma.sqrt(T))\n",
    "    return (norm.pdf(d1)/(S*sigma*ma.sqrt(T)))\n",
    "\n",
    "def theta_BS(S,K,T,r,sigma,style):\n",
    "    d1=(ma.log(S/K)+(r+(sigma**2)/2)*T)/(sigma*ma.sqrt(T))\n",
    "    d2=d1-sigma*ma.sqrt(T)\n",
    "    if(style=='call'):\n",
    "      return ((-(S*sigma*norm.pdf(d1))/(2*ma.sqrt(T)))-K*r*ma.exp(-r*T)*norm.cdf(d2))\n",
    "    if(style=='put'):\n",
    "      return (-(S*sigma*norm.pdf(d1))/(2*ma.sqrt(T))+K*r*ma.exp(-r*T)*norm.cdf(-d2))\n",
    "    \n",
    "theta_BS(100,110,1,0.25,0.05,'call')"
   ]
  },
  {
   "cell_type": "code",
   "execution_count": 15,
   "metadata": {},
   "outputs": [
    {
     "data": {
      "text/plain": [
       "(-1.6869913168426742, array([-1.91017225]))"
      ]
     },
     "execution_count": 15,
     "metadata": {},
     "output_type": "execute_result"
    }
   ],
   "source": [
    "def delta_gamma(So,K,To,sigma,r,style, alpha=0.05):\n",
    "  d=delta_BS(So,K,To,r,sigma,style)\n",
    "  g=gamma_BS(So,K,To,r,sigma,style)\n",
    "  t=theta_BS(So,K,To,r,sigma,style)\n",
    "  const=len(qmc_simulation(17))\n",
    "  browm1=  qmc_simulation(17)\n",
    "  St1=np.zeros((const))\n",
    "  T= 1.4/365 \n",
    "  St1 = So- So*np.exp((r-(sigma**2)/2)*T + sigma*ma.sqrt(T)*browm1)\n",
    "  delta_c= St1*d +0.5*(St1**2)*g + T*t\n",
    "  var=np.percentile(delta_c, 1-alpha)\n",
    "  cvar=pd.DataFrame(delta_c)[pd.DataFrame(delta_c)<= var].mean().to_numpy()\n",
    "  return var, cvar\n",
    "\n",
    "\n",
    "delta_gamma(100,110,1,0.25,0.05,'call')"
   ]
  },
  {
   "cell_type": "code",
   "execution_count": 25,
   "metadata": {},
   "outputs": [],
   "source": [
    "\n",
    "def option_asiatique(So,K,T,sigma,r,style):\n",
    "  const=len(qmc_simulation(12))\n",
    "  browm1=  qmc_simulation(12)\n",
    "  St1=np.zeros((const))\n",
    "  St2=np.zeros((const))\n",
    "  dis=500\n",
    "  t=np.arange(0,T+T/dis, T/dis)\n",
    "  for i in range(dis+1):\n",
    "    St1 = St1 + So*np.exp((r-(sigma**2)/2)*t[i] + sigma*ma.sqrt(t[i])*browm1)\n",
    "    St2 = St2 + So*np.exp((r-(sigma**2)/2)*t[i] - sigma*ma.sqrt(t[i])*browm1) \n",
    "  St1=St1[:,0]/dis   \n",
    "  St2=St2[:,0]/dis      \n",
    "  payoff=np.ones(const)\n",
    "  #Variable de controle\n",
    "  Z=0.5*np.exp(-r*T)*(St1+St2)\n",
    "  if (style==\"call\"):\n",
    "    for i in range(const):\n",
    "      payoff[i]=((max((St1[i]-K),0)+ (max((St2[i]-K),0)))*ma.exp(-r*T))/2       \n",
    "  if(style=='put'):\n",
    "      for i in range(const):       \n",
    "         payoff[i]=((max((K-St1[i]),0)+ (max((K-St2[i]),0)))*ma.exp(-r*T))/2    \n",
    "  k=-np.cov(Z.T,payoff)/np.var(Z)\n",
    "  variable_de_controle= payoff +k[0][1]*(Z-np.mean(Z))\n",
    "  return  np.mean(variable_de_controle)\n",
    "\n",
    "\n",
    "def delta_asiatique(So,K,T,sigma,r,style):\n",
    "  h=1\n",
    "  return (option_asiatique(So-2*h,K,T,sigma,r,style)- 8*(option_asiatique(So-h,K,T,sigma,r,style)) +8*option_asiatique(So+h,K,T,sigma,r,style)-option_asiatique(So+2*h,K,T,sigma,r,style))/(12*h)\n",
    "#  (u(x-2h)-8*u(x-h)+8*u(x+h)+u(x+2h))/12h\n",
    "\n",
    "def gamma_asiatique(So,K,T,sigma,r,style):\n",
    "  h=1\n",
    "  return (delta_asiatique(So-2*h,K,T,sigma,r,style)- 8*(delta_asiatique(So-h,K,T,sigma,r,style)) +8*delta_asiatique(So+h,K,T,sigma,r,style)-delta_asiatique(So+h,K,T,sigma,r,style))/(12*h)\n",
    "\n",
    "def theta_asiatique(So,K,T,sigma,r,style):\n",
    "  t=T/100\n",
    "  return (option_asiatique(So,K,T-2*t,sigma,r,style)- 8*(option_asiatique(So,K,T-t,sigma,r,style)) +8*option_asiatique(So,K,T+t,sigma,r,style)-option_asiatique(So,K,T+2*t,sigma,r,style))/(12*t)\n",
    "def rho_asiatique(So,K,T,sigma,r,style):\n",
    "  \n",
    "  h=0.001\n",
    "  return (option_asiatique(So,K,T,sigma,r-2*h,style) - 8*(option_asiatique(So,K,T,sigma,r-h,style)) + 8*option_asiatique(So,K,T,sigma,r+h,style) - option_asiatique(So,K,T,sigma,r+2*h,style))/(12*h)\n",
    "\n",
    "def vega_asiatique(So,K,T,sigma,r,style):\n",
    "  h=sigma/100\n",
    "  return (option_asiatique(So,K,T,sigma-2*h,r,style)- 8*(option_asiatique(So,K,T,sigma-h,r,style)) +8*option_asiatique(So,K,T,sigma+h,r,style)-option_asiatique(So,K,T,sigma+2*h,r,style))/(12*h)\n",
    "\n",
    "\n",
    "def delta_gamma_asiatique(So,K,To,sigma,r,style, alpha=0.05):\n",
    "  d=delta_asiatique(So,K,To,r,sigma,style)\n",
    "  g=gamma_asiatique(So,K,To,r,sigma,style)\n",
    "  theta=theta_asiatique(So,K,To,r,sigma,style)\n",
    "  const=len(qmc_simulation(8))\n",
    "  browm1=  qmc_simulation(8)\n",
    "  St1=np.zeros((const))\n",
    "  T= 1.4/365 \n",
    "  dis=100\n",
    "  t=np.arange(0,T+T/dis, T/dis)\n",
    "  for i in range(dis+1):\n",
    "    St1 = St1 + So*np.exp((r-(sigma**2)/2)*t[i] + sigma*ma.sqrt(t[i])*browm1)\n",
    "  St1=St1[:,0]/dis\n",
    "  St1 = So- St1\n",
    "  delta_c= St1*d +0.5*(St1**2)*g + T*theta\n",
    "  var=np.percentile(delta_c, 1-alpha)\n",
    "  cvar=pd.DataFrame(delta_c)[pd.DataFrame(delta_c)<= var].mean().to_numpy()\n",
    "  return var, cvar\n",
    "\n",
    "\n"
   ]
  },
  {
   "cell_type": "code",
   "execution_count": 26,
   "metadata": {},
   "outputs": [
    {
     "data": {
      "text/plain": [
       "(8.457835957827402,)"
      ]
     },
     "execution_count": 26,
     "metadata": {},
     "output_type": "execute_result"
    }
   ],
   "source": [
    "(option_asiatique(100,100,1,0.3,0.02,'call'),)\n",
    "#delta_gamma_asiatique(100,110,1,0.25,0.05,'call')\n",
    "#delta_asiatique(100,110,1,0.25,0.05,'call')"
   ]
  },
  {
   "cell_type": "code",
   "execution_count": 18,
   "metadata": {},
   "outputs": [
    {
     "data": {
      "text/plain": [
       "88.7987974499605"
      ]
     },
     "execution_count": 18,
     "metadata": {},
     "output_type": "execute_result"
    }
   ],
   "source": [
    "def option_lookback1(So,K,T,sigma,r,style):\n",
    "  const=len(qmc_simulation(14))\n",
    "  browm1=  qmc_simulation(14)\n",
    "  dis=300\n",
    "  St1=np.zeros((const,dis+1))\n",
    "  St2=np.zeros((const, dis+1))\n",
    " \n",
    "  t=np.arange(0,T+T/dis, T/dis)\n",
    "  for i in range(dis+1):\n",
    "    St1[:,i:i+1] = So*np.exp((r-(sigma**2)/2)*t[i] + sigma*ma.sqrt(t[i])*browm1)\n",
    "    St2[:,i:i+1]= So*np.exp((r-(sigma**2)/2)*t[i] - sigma*ma.sqrt(t[i])*browm1)  \n",
    "  if (style==\"call\"):\n",
    "      payoff=((max((np.amax(St1)-K),0)+ (max((np.amax(St1)-K),0)))*ma.exp(-r*T))/2       \n",
    "  if(style=='put'): \n",
    "      payoff=((max((K-np.amin(St1)),0)+ (max(min(K-np.ammin(St2)),0)))*ma.exp(-r*T))/2    \n",
    "  return  payoff\n",
    "\n",
    "def option_lookback(So,K,T,sigma,r,style):\n",
    "  const=len(qmc_simulation(14))\n",
    "  browm1=  qmc_simulation(14)\n",
    "  dis=300\n",
    "  St1=np.zeros((const,dis+1))\n",
    "  St2=np.zeros((const, dis+1))\n",
    " \n",
    "  t=np.arange(0,T+T/dis, T/dis)\n",
    "  for i in range(dis+1):\n",
    "    St1[:,i:i+1] = So*np.exp((r-(sigma**2)/2)*t[i] + sigma*ma.sqrt(t[i])*browm1)\n",
    "    St2[:,i:i+1]= So*np.exp((r-(sigma**2)/2)*t[i] - sigma*ma.sqrt(t[i])*browm1)  \n",
    "  \n",
    "  St1=np.mean(St1, axis=1)\n",
    "  St2=np.mean(St2, axis=1)\n",
    "  if (style==\"call\"):\n",
    "      payoff=((max((np.amax(St1)-K),0)+ (max((np.amax(St1)-K),0)))*ma.exp(-r*T))/2       \n",
    "  if(style=='put'): \n",
    "      payoff=((max((K-np.amin(St1)),0)+ (max(min(K-np.ammin(St2)),0)))*ma.exp(-r*T))/2    \n",
    "  return  payoff\n",
    "\n",
    "def delta_lookback(So,K,T,sigma,r,style):\n",
    "  h=1\n",
    "  return (option_lookback(So-2*h,K,T,sigma,r,style)- 8*(option_lookback(So-h,K,T,sigma,r,style)) +8*option_lookback(So+h,K,T,sigma,r,style)-option_lookback(So+2*h,K,T,sigma,r,style))/(12*h)\n",
    "#  (u(x-2h)-8*u(x-h)+8*u(x+h)+u(x+2h))/12h\n",
    "\n",
    "def gamma_lookback(So,K,T,sigma,r,style):\n",
    "  h=1\n",
    "  return (delta_lookback(So-2*h,K,T,sigma,r,style)- 8*(delta_lookback(So-h,K,T,sigma,r,style)) +8*delta_lookback(So+h,K,T,sigma,r,style)-delta_lookback(So+h,K,T,sigma,r,style))/(12*h)\n",
    "\n",
    "def theta_lookback(So,K,T,sigma,r,style):\n",
    "  t=T/100\n",
    "  return (option_lookback(So,K,T-2*t,sigma,r,style)- 8*(option_lookback(So,K,T-t,sigma,r,style)) +8*option_lookback(So,K,T+t,sigma,r,style)-option_lookback(So,K,T+2*t,sigma,r,style))/(12*t)\n",
    "def rho_lookback(So,K,T,sigma,r,style):\n",
    "  \n",
    "  h=0.001\n",
    "  return (option_lookback(So,K,T,sigma,r-2*h,style) - 8*(option_lookback(So,K,T,sigma,r-h,style)) + 8*option_lookback(So,K,T,sigma,r+h,style) - option_lookback(So,K,T,sigma,r+2*h,style))/(12*h)\n",
    "\n",
    "def vega_lookback(So,K,T,sigma,r,style):\n",
    "  h=sigma/100\n",
    "  return (option_lookback(So,K,T,sigma-2*h,r,style)- 8*(option_lookback(So,K,T,sigma-h,r,style)) +8*option_lookback(So,K,T,sigma+h,r,style)-option_lookback(So,K,T,sigma+2*h,r,style))/(12*h)\n",
    "def delta_gamma_lookback(So,K,To,sigma,r,style, alpha=0.05):\n",
    "  d=delta_lookback(So,K,To,r,sigma,style)\n",
    "  g=gamma_lookback(So,K,To,r,sigma,style)\n",
    "  theta=theta_lookback(So,K,To,r,sigma,style)\n",
    "  const=len(qmc_simulation(15))\n",
    "  browm1=  qmc_simulation(15)\n",
    "  T= 1.4/365 \n",
    "  dis=100\n",
    "  St1=np.zeros((const, dis+1))\n",
    "\n",
    "  t=np.arange(0,T+T/dis, T/dis)\n",
    "  for i in range(dis+1):\n",
    "    St1[:,i:i+1] = So*np.exp((r-(sigma**2)/2)*t[i] + sigma*ma.sqrt(t[i])*browm1)\n",
    "  St1 =  np.max(St1,axis=1 )-So\n",
    "  delta_c= St1*d +0.5*(St1**2)*g + T*theta\n",
    "  var=np.percentile(delta_c, 1-alpha)\n",
    "  cvar=pd.DataFrame(delta_c)[pd.DataFrame(delta_c)<= var].mean().to_numpy()\n",
    "  return var, cvar\n",
    "\n",
    "option_lookback(100,110,1,0.25,0.05,'call')\n",
    "#delta_gamma_lookback(100,110,1,0.25,0.05,'call')"
   ]
  },
  {
   "cell_type": "code",
   "execution_count": 19,
   "metadata": {},
   "outputs": [
    {
     "name": "stdout",
     "output_type": "stream",
     "text": [
      "214.71810869032518 194.74159677748483\n",
      "185.09688756581107 202.2300636573508\n"
     ]
    },
    {
     "data": {
      "text/plain": [
       "0"
      ]
     },
     "execution_count": 19,
     "metadata": {},
     "output_type": "execute_result"
    }
   ],
   "source": [
    "def option_barrierr(So,K,H,T,sigma,r,style):\n",
    "  const=len(qmc_simulation(12))\n",
    "  browm1=  qmc_simulation(12)\n",
    "  dis=50\n",
    "  St1=np.zeros((const,dis+1))\n",
    "  St2=np.zeros((const, dis+1))\n",
    "  t=np.arange(0,T+T/dis, T/dis)\n",
    "  for i in range(dis+1):\n",
    "    St1[:,i:i+1] = So*np.exp((r-(sigma**2)/2)*t[i] + sigma*ma.sqrt(t[i])*browm1)\n",
    "    St2[:,i:i+1]= So*np.exp((r-(sigma**2)/2)*t[i] - sigma*ma.sqrt(t[i])*browm1)       \n",
    "  payoff=np.ones(const)\n",
    "  \n",
    "  if (np.amax(St1)< H) and (np.amax(St2)< H):\n",
    "    Z=0.5*np.exp(-r*T)*(St1[:,-1]-+St2[:,-1])\n",
    "    if (style==\"call\"):\n",
    "     for i in range(const):\n",
    "      payoff[i]=((max((St1[i][-1]-K),0)+ (max((St2[i][-1]-K),0)))*ma.exp(-r*T))/2       \n",
    "    if(style=='put'):\n",
    "      for i in range(const):       \n",
    "         payoff[i]=((max((K-St1[i][-1]),0)+ (max((K-St2[i][-1]),0)))*ma.exp(-r*T))/2    \n",
    "    k=-np.cov(Z.T,payoff)/np.var(Z)\n",
    "    variable_de_controle= payoff +k[0][1]*(Z-np.mean(Z))\n",
    "    return np.mean(variable_de_controle)#, 1.96*np.std(variable_de_controle)/const, const\n",
    "  \n",
    "  return 0\n",
    "\n",
    "def option_barrier(So,K,H,T,sigma,r,style):\n",
    "  const=len(qmc_simulation(12))\n",
    "  browm1=  qmc_simulation(12)\n",
    "  dis=100\n",
    "  St1=np.zeros((const,dis+1))\n",
    "  St2=np.zeros((const, dis+1))\n",
    "  t=np.arange(0,T+T/dis, T/dis)\n",
    "  for i in range(dis+1):\n",
    "    St1[:,i:i+1] = So*np.exp((r-(sigma**2)/2)*t[i] + sigma*ma.sqrt(t[i])*browm1)\n",
    "    St2[:,i:i+1]= So*np.exp((r-(sigma**2)/2)*t[i] - sigma*ma.sqrt(t[i])*browm1)       \n",
    "  \n",
    "  St1=np.mean(St1, axis=1)\n",
    "  St2=np.mean(St2, axis=1)\n",
    "  print(np.amax(St1),np.amax(St2))\n",
    "  if (np.amax(St1)< H) and (np.amax(St2)< H):\n",
    "    return prix_St_norm(So,K,T,sigma,r,style)\n",
    "  return 0\n",
    "\n",
    "def delta_gamma_barrier(So,K,H,T,sigma,r,style, alpha=0.05):\n",
    "  if option_barrier(So,K,H,T,sigma,r,style) :\n",
    "    return delta_gamma(So,K,T,sigma,r,style, alpha=0.05)\n",
    "  else:\n",
    "    return 0\n",
    "\n",
    "\n",
    "option_barrier(100,110,2000,1,0.25,0.05,'call')\n",
    "delta_gamma_barrier(100,110,200,1,0.25,0.05,'call')"
   ]
  },
  {
   "attachments": {},
   "cell_type": "markdown",
   "metadata": {},
   "source": [
    "PRICING DES OPTIONS AVEC LA VOLATILITE SCTHOCHASTIQUE"
   ]
  },
  {
   "cell_type": "code",
   "execution_count": null,
   "metadata": {},
   "outputs": [],
   "source": []
  },
  {
   "cell_type": "code",
   "execution_count": 20,
   "metadata": {},
   "outputs": [
    {
     "data": {
      "text/plain": [
       "'with st.form(\"Prix de l\\'option\"):\\n   st.write(\"Simulation du prix du sous-jacent\")\\n   c_p=st.selectbox(\"Style de l\\'option\", [\"call\",\"put\"])\\n   So=st.number_input(\"Le prix initial de votre Sous-jacent\",step=1)\\n   K=st.number_input(\"Le Strike\",step=1)\\n   T=st.number_input(\"Temps en année\",step=0.05)\\n   sigma=st.number_input(\"La volatilité\",step=0.05)\\n   r=st.number_input(\"Taux sans risque\",step=0.05)\\n   st.write(\"Parametre de Simulation\")\\n   const=st.slider(\"Nombre de simulation\",0,10000,step=10)\\n   alpha=st.number_input(\" Niveau de risque\",step=0.01, value=0.05)\\n   N=1000\\n   submitted = st.form_submit_button(\"Submit\")\\n   if (submitted):\\n      st.write(\"Evolution possible du prix du sous-jacent N=100\")\\n      fig, ax = plt.subplots()\\n      ax= plot_St(const,So,T,sigma,r)\\n      st.pyplot(fig)\\n      st.write(\"La valeur de l\\'option\")\\n      st.write(prix_St_norm(const,So,K,T,sigma,r,c_p,alpha))\\n      st.write(\"La valeur de l\\'option par le modéle de black and Scholes: \",black_scholes(So,K,T,r,sigma,c_p))'"
      ]
     },
     "execution_count": 20,
     "metadata": {},
     "output_type": "execute_result"
    }
   ],
   "source": [
    "\"\"\"with st.form(\"Prix de l'option\"):\n",
    "   st.write(\"Simulation du prix du sous-jacent\")\n",
    "   c_p=st.selectbox(\"Style de l'option\", [\"call\",\"put\"])\n",
    "   So=st.number_input(\"Le prix initial de votre Sous-jacent\",step=1)\n",
    "   K=st.number_input(\"Le Strike\",step=1)\n",
    "   T=st.number_input(\"Temps en année\",step=0.05)\n",
    "   sigma=st.number_input(\"La volatilité\",step=0.05)\n",
    "   r=st.number_input(\"Taux sans risque\",step=0.05)\n",
    "   st.write(\"Parametre de Simulation\")\n",
    "   const=st.slider(\"Nombre de simulation\",0,10000,step=10)\n",
    "   alpha=st.number_input(\" Niveau de risque\",step=0.01, value=0.05)\n",
    "   N=1000\n",
    "   submitted = st.form_submit_button(\"Submit\")\n",
    "   if (submitted):\n",
    "      st.write(\"Evolution possible du prix du sous-jacent N=100\")\n",
    "      fig, ax = plt.subplots()\n",
    "      ax= plot_St(const,So,T,sigma,r)\n",
    "      st.pyplot(fig)\n",
    "      st.write(\"La valeur de l'option\")\n",
    "      st.write(prix_St_norm(const,So,K,T,sigma,r,c_p,alpha))\n",
    "      st.write(\"La valeur de l'option par le modéle de black and Scholes: \",black_scholes(So,K,T,r,sigma,c_p))\"\"\""
   ]
  }
 ],
 "metadata": {
  "kernelspec": {
   "display_name": "Python 3",
   "language": "python",
   "name": "python3"
  },
  "language_info": {
   "codemirror_mode": {
    "name": "ipython",
    "version": 3
   },
   "file_extension": ".py",
   "mimetype": "text/x-python",
   "name": "python",
   "nbconvert_exporter": "python",
   "pygments_lexer": "ipython3",
   "version": "3.10.6"
  },
  "orig_nbformat": 4,
  "vscode": {
   "interpreter": {
    "hash": "63963b3f4c440940f0b94a3100916033a226cb4f45979123153792d60aa56d6a"
   }
  }
 },
 "nbformat": 4,
 "nbformat_minor": 2
}
